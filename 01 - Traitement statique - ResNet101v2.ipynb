{
 "cells": [
  {
   "cell_type": "markdown",
   "metadata": {},
   "source": [
    "# Apprentissage sur les images\n",
    "\n",
    "Entraine le modèle sur des images et pas sur les vidéos."
   ]
  },
  {
   "cell_type": "code",
   "execution_count": 14,
   "metadata": {},
   "outputs": [],
   "source": [
    "import numpy as np\n",
    "import pandas as pd\n",
    "import matplotlib.pyplot as plt\n",
    "\n",
    "from tensorflow import keras\n",
    "from tensorflow.keras.preprocessing import image_dataset_from_directory\n",
    "from tensorflow.keras.preprocessing.image import ImageDataGenerator\n",
    "\n",
    "%matplotlib inline\n",
    "plt.rcParams['figure.figsize'] = 12, 8\n",
    "%config InlineBackend.figure_format = 'retina'"
   ]
  },
  {
   "cell_type": "code",
   "execution_count": 24,
   "metadata": {},
   "outputs": [
    {
     "output_type": "stream",
     "name": "stdout",
     "text": [
      "Found 4736 images belonging to 5 classes.\n",
      "Found 3568 images belonging to 5 classes.\n"
     ]
    }
   ],
   "source": [
    "datagen = ImageDataGenerator(preprocessing_function=keras.applications.resnet_v2.preprocess_input)\n",
    "\n",
    "train_dataset = datagen.flow_from_directory(\n",
    "        'DB/train/',\n",
    "        target_size=(224, 224),\n",
    "        batch_size=32,\n",
    "        classes=None,\n",
    "        class_mode='categorical')\n",
    "\n",
    "test_dataset = datagen.flow_from_directory(\n",
    "        'DB/test/',\n",
    "        target_size=(224, 224),\n",
    "        batch_size=32,\n",
    "        classes=None,\n",
    "        class_mode='categorical')"
   ]
  },
  {
   "cell_type": "markdown",
   "metadata": {},
   "source": [
    "## Modèle de classification\n",
    "Les images sont\n",
    "- peu nombreuses\n",
    "- parfois floues\n",
    "- une main recouvre en partie les objets\n",
    "- d'autres objets sont visibles en arrière plan"
   ]
  },
  {
   "cell_type": "code",
   "execution_count": 26,
   "metadata": {},
   "outputs": [
    {
     "output_type": "stream",
     "name": "stdout",
     "text": [
      "Model: \"sequential_2\"\n_________________________________________________________________\nLayer (type)                 Output Shape              Param #   \n=================================================================\nresnet101v2 (Functional)     (None, None, None, 2048)  42626560  \n_________________________________________________________________\nflatten_2 (Flatten)          (None, 100352)            0         \n_________________________________________________________________\ndense_6 (Dense)              (None, 256)               25690368  \n_________________________________________________________________\ndropout_2 (Dropout)          (None, 256)               0         \n_________________________________________________________________\ndense_7 (Dense)              (None, 256)               65792     \n_________________________________________________________________\ndense_8 (Dense)              (None, 5)                 1285      \n=================================================================\nTotal params: 68,384,005\nTrainable params: 25,757,445\nNon-trainable params: 42,626,560\n_________________________________________________________________\n"
     ]
    }
   ],
   "source": [
    "from keras.applications import VGG16\n",
    "from keras.applications import ResNet101V2\n",
    "from keras.models import Sequential\n",
    "from keras.layers import Input, Flatten, Dense, Dropout\n",
    "\n",
    "resnet = ResNet101V2(include_top=False, weights=\"imagenet\")\n",
    "resnet.trainable = False\n",
    "\n",
    "model = Sequential([\n",
    "    Input((224, 224, 3)),\n",
    "    resnet,\n",
    "    Flatten(),\n",
    "    Dense(256, activation=\"relu\"),\n",
    "    Dropout(0.1),\n",
    "    Dense(256),\n",
    "    Dense(5, activation=\"softmax\")\n",
    "])\n",
    "\n",
    "modele.summary()"
   ]
  },
  {
   "cell_type": "code",
   "execution_count": 27,
   "metadata": {},
   "outputs": [
    {
     "output_type": "stream",
     "name": "stdout",
     "text": [
      "148/148 [==============================] - 531s 4s/step - loss: 2.1869 - accuracy: 0.9415\n",
      "WARNING:tensorflow:From C:\\Users\\Melvin.Melvin-PC\\AppData\\Local\\Programs\\Python\\Python36\\lib\\site-packages\\tensorflow\\python\\training\\tracking\\tracking.py:111: Model.state_updates (from tensorflow.python.keras.engine.training) is deprecated and will be removed in a future version.\n",
      "Instructions for updating:\n",
      "This property should not be used in TensorFlow 2.0, as updates are applied automatically.\n",
      "WARNING:tensorflow:From C:\\Users\\Melvin.Melvin-PC\\AppData\\Local\\Programs\\Python\\Python36\\lib\\site-packages\\tensorflow\\python\\training\\tracking\\tracking.py:111: Layer.updates (from tensorflow.python.keras.engine.base_layer) is deprecated and will be removed in a future version.\n",
      "Instructions for updating:\n",
      "This property should not be used in TensorFlow 2.0, as updates are applied automatically.\n",
      "INFO:tensorflow:Assets written to: modele-resnet\\assets\n"
     ]
    }
   ],
   "source": [
    "from keras.optimizers import Adam\n",
    "from keras.losses import categorical_crossentropy\n",
    "\n",
    "optimiser = Adam()\n",
    "model.compile(optimizer=optimiser, loss=categorical_crossentropy, metrics=[\"accuracy\"])\n",
    "history = model.fit(train_dataset)\n",
    "model.save(\"modele-resnet\")"
   ]
  },
  {
   "cell_type": "code",
   "execution_count": 28,
   "metadata": {},
   "outputs": [],
   "source": [
    "best_model = keras.models.load_model(\"modele-resnet\")"
   ]
  },
  {
   "cell_type": "code",
   "execution_count": 29,
   "metadata": {},
   "outputs": [
    {
     "output_type": "stream",
     "name": "stdout",
     "text": [
      "112/112 [==============================] - 374s 3s/step\n"
     ]
    }
   ],
   "source": [
    "res = best_model.predict(test_dataset, verbose=1)"
   ]
  },
  {
   "cell_type": "code",
   "execution_count": 34,
   "metadata": {},
   "outputs": [
    {
     "output_type": "stream",
     "name": "stdout",
     "text": [
      "Prediction result shape: (3568, 5)\n"
     ]
    }
   ],
   "source": [
    "print(f\"Prediction result shape: {res.shape}\")\n",
    "y_classes = res.argmax(axis=-1)\n",
    "print(y_classes.shape)"
   ]
  },
  {
   "cell_type": "code",
   "execution_count": 55,
   "metadata": {},
   "outputs": [],
   "source": []
  }
 ],
 "metadata": {
  "kernelspec": {
   "display_name": "Python 3",
   "language": "python",
   "name": "python3"
  },
  "language_info": {
   "codemirror_mode": {
    "name": "ipython",
    "version": 3
   },
   "file_extension": ".py",
   "mimetype": "text/x-python",
   "name": "python",
   "nbconvert_exporter": "python",
   "pygments_lexer": "ipython3",
   "version": "3.6.4-final"
  }
 },
 "nbformat": 4,
 "nbformat_minor": 4
}