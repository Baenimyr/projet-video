{
 "cells": [
  {
   "cell_type": "markdown",
   "metadata": {},
   "source": [
    "# Apprentissage sur les images\n",
    "\n",
    "Entraine le modèle sur des images et pas sur les vidéos."
   ]
  },
  {
   "cell_type": "code",
   "execution_count": null,
   "metadata": {},
   "outputs": [],
   "source": [
    "import numpy as np\n",
    "import pandas as pd\n",
    "import matplotlib.pyplot as plt\n",
    "\n",
    "from tensorflow import keras\n",
    "from tensorflow.keras.preprocessing.image import ImageDataGenerator\n",
    "\n",
    "%matplotlib inline\n",
    "plt.rcParams['figure.figsize'] = 12, 8\n",
    "%config InlineBackend.figure_format = 'retina'"
   ]
  },
  {
   "cell_type": "markdown",
   "metadata": {},
   "source": [
    "## Importation\n",
    "Les images utilisée pour entrainer le réseau convolutionnel de VGG ont été normalisées.\n",
    "Il faut appliquer la même transformation à nos images pour conserver les propriétés non-linéaires du réseau de convolution."
   ]
  },
  {
   "cell_type": "code",
   "execution_count": null,
   "metadata": {},
   "outputs": [],
   "source": [
    "preprocess = ImageDataGenerator(\n",
    "    preprocessing_function=keras.applications.vgg16.preprocess_input\n",
    ")\n",
    "\n",
    "train_dataset = preprocess.flow_from_directory(\n",
    "    directory='DB/train/',\n",
    "    classes=None,\n",
    "    class_mode='categorical',\n",
    "    batch_size=32,\n",
    "    target_size=(227, 227)\n",
    ")\n",
    "\n",
    "test_dataset = preprocess.flow_from_directory(\n",
    "    directory=\"DB/test/\",\n",
    "    classes=None,\n",
    "    class_mode=\"categorical\",\n",
    "    batch_size=32,\n",
    "    target_size=(227, 227)\n",
    ")"
   ]
  },
  {
   "cell_type": "markdown",
   "metadata": {},
   "source": [
    "## Modèle de classification\n",
    "Les images sont\n",
    "- peu nombreuses\n",
    "- parfois floues\n",
    "- une main recouvre en partie les objets\n",
    "- d'autres objets sont visibles en arrière plan\n",
    "\n",
    "Le modèle pré-entrainé VGG permet de traiter efficacement les images.\n",
    "La classification est réduite aux seules 5 classes cibles, le modèle VGG-imagenet complet contient trop de classes et ne parvient pas à distinguer nos 5 objets parmis tous les objets possibles."
   ]
  },
  {
   "cell_type": "code",
   "execution_count": null,
   "metadata": {},
   "outputs": [],
   "source": [
    "from keras.applications import VGG16\n",
    "from keras.models import Sequential\n",
    "from keras.layers import Input, Flatten, Dense, Dropout\n",
    "\n",
    "vgg = VGG16(include_top=False, weights=\"imagenet\")\n",
    "vgg.trainable = False\n",
    "\n",
    "dense = Sequential(name=\"dense\", [\n",
    "    Flatten(),\n",
    "    Dense(512, activation=\"elu\"),\n",
    "    Dropout(0.1),\n",
    "    Dense(256),\n",
    "    Dense(5, activation=\"softmax\")\n",
    "])\n",
    "\n",
    "modele = Sequential(name=\"complet\", [\n",
    "    Input((227, 227, 3)),\n",
    "    vgg,\n",
    "    dense\n",
    "])\n",
    "\n",
    "dense.summary()"
   ]
  },
  {
   "cell_type": "code",
   "execution_count": null,
   "metadata": {},
   "outputs": [],
   "source": [
    "from keras.optimizers import Adam\n",
    "from keras.losses import categorical_crossentropy\n",
    "\n",
    "optimiser = Adam()\n",
    "modele.compile(optimizer=optimiser, loss=categorical_crossentropy, metrics=[\"accuracy\"])\n",
    "historique = modele.fit(train_dataset,\n",
    "                        epochs=2\n",
    "                       #validation_data=test_dataset\n",
    "                       )\n",
    "dense.save(\"modele-VGG16\")"
   ]
  },
  {
   "cell_type": "code",
   "execution_count": null,
   "metadata": {},
   "outputs": [],
   "source": []
  }
 ],
 "metadata": {
  "kernelspec": {
   "display_name": "Python 3",
   "language": "python",
   "name": "python3"
  },
  "language_info": {
   "codemirror_mode": {
    "name": "ipython",
    "version": 3
   },
   "file_extension": ".py",
   "mimetype": "text/x-python",
   "name": "python",
   "nbconvert_exporter": "python",
   "pygments_lexer": "ipython3",
   "version": "3.8.6"
  }
 },
 "nbformat": 4,
 "nbformat_minor": 4
}
