{
 "cells": [
  {
   "cell_type": "markdown",
   "metadata": {},
   "source": [
    "# Apprentissage sur les images\n",
    "\n",
    "Entraine le modèle sur des images et pas sur les vidéos."
   ]
  },
  {
   "cell_type": "code",
   "execution_count": 1,
   "metadata": {},
   "outputs": [],
   "source": [
    "import numpy as np\n",
    "import pandas as pd\n",
    "import matplotlib.pyplot as plt\n",
    "\n",
    "from tensorflow import keras\n",
    "from tensorflow.keras.preprocessing.image import ImageDataGenerator\n",
    "\n",
    "%matplotlib inline\n",
    "plt.rcParams['figure.figsize'] = 12, 8\n",
    "%config InlineBackend.figure_format = 'retina'"
   ]
  },
  {
   "cell_type": "markdown",
   "metadata": {},
   "source": [
    "## Importation\n",
    "Les images utilisée pour entrainer le réseau convolutionnel de VGG ont été normalisées.\n",
    "Il faut appliquer la même transformation à nos images pour conserver les propriétés non-linéaires du réseau de convolution."
   ]
  },
  {
   "cell_type": "code",
   "execution_count": 2,
   "metadata": {},
   "outputs": [
    {
     "name": "stdout",
     "output_type": "stream",
     "text": [
      "Found 4736 images belonging to 5 classes.\n",
      "Found 3568 images belonging to 5 classes.\n"
     ]
    }
   ],
   "source": [
    "preprocess = ImageDataGenerator(\n",
    "    preprocessing_function=keras.applications.vgg16.preprocess_input\n",
    ")\n",
    "\n",
    "train_dataset = preprocess.flow_from_directory(\n",
    "    directory='DB/train/',\n",
    "    classes=None,\n",
    "    class_mode='categorical',\n",
    "    batch_size=32,\n",
    "    target_size=(227, 227)\n",
    ")\n",
    "\n",
    "test_dataset = preprocess.flow_from_directory(\n",
    "    directory=\"DB/test/\",\n",
    "    classes=None,\n",
    "    class_mode=\"categorical\",\n",
    "    batch_size=32,\n",
    "    target_size=(227, 227)\n",
    ")"
   ]
  },
  {
   "cell_type": "markdown",
   "metadata": {},
   "source": [
    "## Modèle de classification\n",
    "Les images sont\n",
    "- peu nombreuses\n",
    "- parfois floues\n",
    "- une main recouvre en partie les objets\n",
    "- d'autres objets sont visibles en arrière plan\n",
    "\n",
    "Le modèle pré-entrainé VGG permet de traiter efficacement les images.\n",
    "La classification est réduite aux seules 5 classes cibles, le modèle VGG-imagenet complet contient trop de classes et ne parvient pas à distinguer nos 5 objets parmis tous les objets possibles."
   ]
  },
  {
   "cell_type": "code",
   "execution_count": 3,
   "metadata": {},
   "outputs": [
    {
     "name": "stdout",
     "output_type": "stream",
     "text": [
      "Model: \"dense\"\n",
      "_________________________________________________________________\n",
      "Layer (type)                 Output Shape              Param #   \n",
      "=================================================================\n",
      "flatten (Flatten)            (None, 25088)             0         \n",
      "_________________________________________________________________\n",
      "dense (Dense)                (None, 512)               12845568  \n",
      "_________________________________________________________________\n",
      "dropout (Dropout)            (None, 512)               0         \n",
      "_________________________________________________________________\n",
      "dense_1 (Dense)              (None, 256)               131328    \n",
      "_________________________________________________________________\n",
      "dense_2 (Dense)              (None, 5)                 1285      \n",
      "=================================================================\n",
      "Total params: 12,978,181\n",
      "Trainable params: 12,978,181\n",
      "Non-trainable params: 0\n",
      "_________________________________________________________________\n"
     ]
    }
   ],
   "source": [
    "from keras.applications import VGG16\n",
    "from keras.models import Sequential\n",
    "from keras.layers import Input, Flatten, Dense, Dropout\n",
    "\n",
    "vgg = VGG16(include_top=False, weights=\"imagenet\")\n",
    "vgg.trainable = False\n",
    "\n",
    "dense = Sequential([\n",
    "    Flatten(),\n",
    "    Dense(512, activation=\"elu\"),\n",
    "    Dropout(0.1),\n",
    "    Dense(256),\n",
    "    Dense(5, activation=\"softmax\")\n",
    "], name=\"dense\")\n",
    "\n",
    "modele = Sequential([\n",
    "    Input((227, 227, 3)),\n",
    "    vgg,\n",
    "    dense\n",
    "], name=\"complet\")\n",
    "\n",
    "dense.summary()\n",
    "modele.summary()"
   ]
  },
  {
   "cell_type": "code",
   "execution_count": 4,
   "metadata": {},
   "outputs": [
    {
     "name": "stdout",
     "output_type": "stream",
     "text": [
      "Epoch 1/2\n",
      "148/148 [==============================] - 637s 4s/step - loss: 3.1824 - accuracy: 0.9576\n",
      "Epoch 2/2\n",
      "148/148 [==============================] - 615s 4s/step - loss: 0.0140 - accuracy: 0.9975\n",
      "WARNING:tensorflow:From /usr/lib/python3.8/site-packages/tensorflow/python/training/tracking/tracking.py:111: Model.state_updates (from tensorflow.python.keras.engine.training) is deprecated and will be removed in a future version.\n",
      "Instructions for updating:\n",
      "This property should not be used in TensorFlow 2.0, as updates are applied automatically.\n",
      "WARNING:tensorflow:From /usr/lib/python3.8/site-packages/tensorflow/python/training/tracking/tracking.py:111: Layer.updates (from tensorflow.python.keras.engine.base_layer) is deprecated and will be removed in a future version.\n",
      "Instructions for updating:\n",
      "This property should not be used in TensorFlow 2.0, as updates are applied automatically.\n",
      "INFO:tensorflow:Assets written to: modele-VGG16/assets\n"
     ]
    }
   ],
   "source": [
    "from keras.optimizers import Adam\n",
    "from keras.losses import categorical_crossentropy\n",
    "\n",
    "optimiser = Adam()\n",
    "modele.compile(optimizer=optimiser, loss=categorical_crossentropy, metrics=[\"accuracy\", \"categorical_accuracy\"])\n",
    "historique = modele.fit(train_dataset,\n",
    "                        epochs=2\n",
    "                       #validation_data=test_dataset\n",
    "                       )\n",
    "dense.save(\"modele-VGG16\")"
   ]
  },
  {
   "cell_type": "code",
   "execution_count": null,
   "metadata": {},
   "outputs": [],
   "source": []
  }
 ],
 "metadata": {
  "kernelspec": {
   "display_name": "Python 3",
   "language": "python",
   "name": "python3"
  },
  "language_info": {
   "codemirror_mode": {
    "name": "ipython",
    "version": 3
   },
   "file_extension": ".py",
   "mimetype": "text/x-python",
   "name": "python",
   "nbconvert_exporter": "python",
   "pygments_lexer": "ipython3",
   "version": "3.8.6"
  }
 },
 "nbformat": 4,
 "nbformat_minor": 4
}
