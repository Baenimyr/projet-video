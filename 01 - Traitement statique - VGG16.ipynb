{
 "cells": [
  {
   "cell_type": "markdown",
   "metadata": {},
   "source": [
    "# Imports"
   ]
  },
  {
   "cell_type": "code",
   "execution_count": 1,
   "metadata": {},
   "outputs": [
    {
     "name": "stdout",
     "output_type": "stream",
     "text": [
      "TensorFlow version: 2.3.1\n",
      "Keras version: 2.4.0\n"
     ]
    }
   ],
   "source": [
    "import numpy as np\n",
    "import pandas as pd\n",
    "import matplotlib.pyplot as plt\n",
    "\n",
    "import tensorflow as tf\n",
    "print(f'TensorFlow version: {tf.__version__}')\n",
    "print(f'Keras version: {tf.keras.__version__}')\n",
    "\n",
    "from tensorflow.keras.preprocessing import image_dataset_from_directory\n",
    "from tensorflow.keras.preprocessing.image import ImageDataGenerator\n",
    "\n",
    "%matplotlib inline\n",
    "plt.rcParams['figure.figsize'] = 12, 8\n",
    "%config InlineBackend.figure_format = 'retina'"
   ]
  },
  {
   "cell_type": "code",
   "execution_count": 2,
   "metadata": {},
   "outputs": [
    {
     "name": "stdout",
     "output_type": "stream",
     "text": [
      "No GPU :(\n"
     ]
    }
   ],
   "source": [
    "print('GPU found :)' if tf.config.list_physical_devices(\"GPU\") else 'No GPU :(')"
   ]
  },
  {
   "cell_type": "code",
   "execution_count": 3,
   "metadata": {},
   "outputs": [],
   "source": [
    "from tensorflow.keras.applications import VGG16\n",
    "from tensorflow.keras.models import Sequential\n",
    "from tensorflow.keras.layers import Input, Flatten, Dense, Dropout\n",
    "from tensorflow.keras.metrics import Recall"
   ]
  },
  {
   "cell_type": "markdown",
   "metadata": {},
   "source": [
    "# Dataset informations"
   ]
  },
  {
   "cell_type": "markdown",
   "metadata": {},
   "source": [
    "5 classes: \n",
    "- Bowl --> train = 1019 images / test = 565 images\n",
    "- CanOfCocaCola --> train = 874 images / test = 671 images\n",
    "- MilkBottle --> train = 1024 images / test = 642 images\n",
    "- Rice --> train = 1032 images / test = 877 images\n",
    "- Sugar --> train = 787 images / test = 813"
   ]
  },
  {
   "cell_type": "markdown",
   "metadata": {},
   "source": [
    "# Data Loading"
   ]
  },
  {
   "cell_type": "code",
   "execution_count": 4,
   "metadata": {},
   "outputs": [
    {
     "name": "stdout",
     "output_type": "stream",
     "text": [
      "Found 4736 images belonging to 5 classes.\n",
      "Found 3568 images belonging to 5 classes.\n"
     ]
    }
   ],
   "source": [
    "preprocess = ImageDataGenerator(\n",
    "    preprocessing_function=tf.keras.applications.vgg19.preprocess_input\n",
    ")\n",
    "\n",
    "train_generator = preprocess.flow_from_directory(\n",
    "        'DB/train',\n",
    "        target_size=(227, 227),\n",
    "        shuffle=True,\n",
    "        class_mode='categorical')\n",
    "\n",
    "test_generator = preprocess.flow_from_directory(\n",
    "        'DB/test',\n",
    "        target_size=(227, 227),\n",
    "        shuffle=True,\n",
    "        class_mode='categorical')"
   ]
  },
  {
   "cell_type": "markdown",
   "metadata": {},
   "source": [
    "# Model creation and training"
   ]
  },
  {
   "cell_type": "code",
   "execution_count": 5,
   "metadata": {},
   "outputs": [
    {
     "name": "stdout",
     "output_type": "stream",
     "text": [
      "Model: \"dense\"\n",
      "_________________________________________________________________\n",
      "Layer (type)                 Output Shape              Param #   \n",
      "=================================================================\n",
      "flatten (Flatten)            (None, 25088)             0         \n",
      "_________________________________________________________________\n",
      "dense (Dense)                (None, 512)               12845568  \n",
      "_________________________________________________________________\n",
      "dropout (Dropout)            (None, 512)               0         \n",
      "_________________________________________________________________\n",
      "dense_1 (Dense)              (None, 256)               131328    \n",
      "_________________________________________________________________\n",
      "dense_2 (Dense)              (None, 5)                 1285      \n",
      "=================================================================\n",
      "Total params: 12,978,181\n",
      "Trainable params: 12,978,181\n",
      "Non-trainable params: 0\n",
      "_________________________________________________________________\n",
      "Model: \"complet\"\n",
      "_________________________________________________________________\n",
      "Layer (type)                 Output Shape              Param #   \n",
      "=================================================================\n",
      "vgg16 (Functional)           (None, None, None, 512)   14714688  \n",
      "_________________________________________________________________\n",
      "dense (Sequential)           (None, 5)                 12978181  \n",
      "=================================================================\n",
      "Total params: 27,692,869\n",
      "Trainable params: 12,978,181\n",
      "Non-trainable params: 14,714,688\n",
      "_________________________________________________________________\n"
     ]
    }
   ],
   "source": [
    "# Create our model from pretrained vgg16\n",
    "vgg = VGG16(include_top=False, weights=\"imagenet\")\n",
    "vgg.trainable = False\n",
    "\n",
    "dense = Sequential([\n",
    "    Flatten(),\n",
    "    Dense(512, activation=\"elu\"),\n",
    "    Dropout(0.1),\n",
    "    Dense(256),\n",
    "    Dense(5, activation=\"softmax\")\n",
    "], name=\"dense\")\n",
    "\n",
    "modele = Sequential([\n",
    "    Input((227, 227, 3)),\n",
    "    vgg,\n",
    "    dense\n",
    "], name=\"complet\")\n",
    "\n",
    "dense.summary()\n",
    "modele.summary()"
   ]
  },
  {
   "cell_type": "code",
   "execution_count": 7,
   "metadata": {},
   "outputs": [
    {
     "name": "stdout",
     "output_type": "stream",
     "text": [
      "Epoch 1/2\n",
      "148/148 [==============================] - 753s 5s/step - loss: 3.3749 - recall: 0.9582 - val_loss: 0.9812 - val_recall: 0.9297\n",
      "Epoch 2/2\n",
      "148/148 [==============================] - 727s 5s/step - loss: 0.0424 - recall: 0.9949 - val_loss: 1.2581 - val_recall: 0.9375\n"
     ]
    }
   ],
   "source": [
    "# Compile, train and save model\n",
    "recall = Recall(name=\"recall\", thresholds=0.3)\n",
    "modele.compile('adam', 'categorical_crossentropy', metrics=[recall])\n",
    "\n",
    "history = modele.fit(train_generator, epochs=2,\n",
    "                     validation_data=test_generator,\n",
    "                     validation_steps=8,\n",
    "                     verbose=1,\n",
    "                     batch_size=32)\n",
    "\n",
    "dense.save(\"modele-VGG16\")"
   ]
  },
  {
   "cell_type": "code",
   "execution_count": null,
   "metadata": {},
   "outputs": [],
   "source": [
    "# Evaluate model performance on test data\n",
    "_, test_acc = modele.evaluate(test_generator, verbose=0)\n",
    "\n",
    "print(f\"Test accuracy: {test_acc:.5f}\")"
   ]
  },
  {
   "cell_type": "code",
   "execution_count": null,
   "metadata": {},
   "outputs": [],
   "source": []
  }
 ],
 "metadata": {
  "kernelspec": {
   "display_name": "Python 3",
   "language": "python",
   "name": "python3"
  },
  "language_info": {
   "codemirror_mode": {
    "name": "ipython",
    "version": 3
   },
   "file_extension": ".py",
   "mimetype": "text/x-python",
   "name": "python",
   "nbconvert_exporter": "python",
   "pygments_lexer": "ipython3",
   "version": "3.8.6"
  }
 },
 "nbformat": 4,
 "nbformat_minor": 4
}
