{
 "cells": [
  {
   "cell_type": "markdown",
   "metadata": {},
   "source": [
    "# Imports"
   ]
  },
  {
   "cell_type": "code",
   "execution_count": 6,
   "metadata": {},
   "outputs": [
    {
     "name": "stdout",
     "output_type": "stream",
     "text": [
      "TensorFlow version: 2.3.1\n",
      "Keras version: 2.4.0\n"
     ]
    }
   ],
   "source": [
    "import numpy as np\n",
    "import pandas as pd\n",
    "import matplotlib.pyplot as plt\n",
    "\n",
    "import tensorflow as tf\n",
    "print(f'TensorFlow version: {tf.__version__}')\n",
    "print(f'Keras version: {tf.keras.__version__}')\n",
    "\n",
    "from tensorflow.keras.preprocessing import image_dataset_from_directory\n",
    "from tensorflow.keras.preprocessing.image import ImageDataGenerator\n",
    "\n",
    "%matplotlib inline\n",
    "plt.rcParams['figure.figsize'] = 12, 8\n",
    "%config InlineBackend.figure_format = 'retina'"
   ]
  },
  {
   "cell_type": "code",
   "execution_count": 13,
   "metadata": {},
   "outputs": [
    {
     "name": "stdout",
     "output_type": "stream",
     "text": [
      "No GPU :(\n"
     ]
    }
   ],
   "source": [
    "print('GPU found :)' if tf.config.list_physical_devices(\"GPU\") else 'No GPU :(')"
   ]
  },
  {
   "cell_type": "code",
   "execution_count": 8,
   "metadata": {},
   "outputs": [],
   "source": [
    "from tensorflow.keras.applications import VGG19\n",
    "from tensorflow.keras.models import Sequential\n",
    "from tensorflow.keras.layers import Input, Flatten, Dense, Dropout"
   ]
  },
  {
   "cell_type": "markdown",
   "metadata": {},
   "source": [
    "# Dataset informations"
   ]
  },
  {
   "cell_type": "markdown",
   "metadata": {},
   "source": [
    "5 classes: \n",
    "- Bowl --> train = 1019 images / test = 565 images\n",
    "- CanOfCocaCola --> train = 874 images / test = 671 images\n",
    "- MilkBottle --> train = 1024 images / test = 642 images\n",
    "- Rice --> train = 1032 images / test = 877 images\n",
    "- Sugar --> train = 787 images / test = 813"
   ]
  },
  {
   "cell_type": "markdown",
   "metadata": {},
   "source": [
    "# Data Loading"
   ]
  },
  {
   "cell_type": "code",
   "execution_count": 12,
   "metadata": {},
   "outputs": [
    {
     "name": "stdout",
     "output_type": "stream",
     "text": [
      "Found 4736 images belonging to 5 classes.\n",
      "Found 3568 images belonging to 5 classes.\n"
     ]
    }
   ],
   "source": [
    "preprocess = ImageDataGenerator(\n",
    "    preprocessing_function=tf.keras.applications.vgg19.preprocess_input\n",
    ")\n",
    "\n",
    "train_generator = preprocess.flow_from_directory(\n",
    "        'DB/train',\n",
    "        target_size=(224, 224),\n",
    "        batch_size=32,\n",
    "        class_mode='categorical')\n",
    "\n",
    "test_generator = preprocess.flow_from_directory(\n",
    "        'DB/test',\n",
    "        target_size=(224, 224),\n",
    "        batch_size=32,\n",
    "        class_mode='categorical')"
   ]
  },
  {
   "cell_type": "markdown",
   "metadata": {},
   "source": [
    "# Model creation and training"
   ]
  },
  {
   "cell_type": "code",
   "execution_count": 14,
   "metadata": {},
   "outputs": [
    {
     "name": "stdout",
     "output_type": "stream",
     "text": [
      "Model: \"sequential\"\n",
      "_________________________________________________________________\n",
      "Layer (type)                 Output Shape              Param #   \n",
      "=================================================================\n",
      "vgg19 (Functional)           (None, None, None, 512)   20024384  \n",
      "_________________________________________________________________\n",
      "flatten (Flatten)            (None, 25088)             0         \n",
      "_________________________________________________________________\n",
      "dense (Dense)                (None, 1024)              25691136  \n",
      "_________________________________________________________________\n",
      "dropout (Dropout)            (None, 1024)              0         \n",
      "_________________________________________________________________\n",
      "dense_1 (Dense)              (None, 1024)              1049600   \n",
      "_________________________________________________________________\n",
      "dense_2 (Dense)              (None, 5)                 5125      \n",
      "=================================================================\n",
      "Total params: 46,770,245\n",
      "Trainable params: 26,745,861\n",
      "Non-trainable params: 20,024,384\n",
      "_________________________________________________________________\n"
     ]
    }
   ],
   "source": [
    "# Create our model from pretrained vgg19\n",
    "vgg19 = VGG19(include_top=False, weights=\"imagenet\")\n",
    "vgg19.trainable = False\n",
    "\n",
    "model = Sequential([\n",
    "    Input((224, 224, 3)),\n",
    "    vgg19,\n",
    "    Flatten(),\n",
    "    Dense(1024),\n",
    "    Dropout(0.1),\n",
    "    Dense(1024),\n",
    "    Dense(5, activation=\"softmax\")\n",
    "])\n",
    "\n",
    "model.summary()"
   ]
  },
  {
   "cell_type": "code",
   "execution_count": null,
   "metadata": {},
   "outputs": [
    {
     "name": "stdout",
     "output_type": "stream",
     "text": [
      "Epoch 1/20\n",
      "148/148 [==============================] - 1958s 13s/step - loss: 14.4614 - accuracy: 0.9533\n",
      "Epoch 2/20\n",
      "148/148 [==============================] - 1876s 13s/step - loss: 5.5169 - accuracy: 0.9909\n",
      "Epoch 3/20\n",
      "148/148 [==============================] - 1860s 13s/step - loss: 12.3109 - accuracy: 0.9909\n",
      "Epoch 4/20\n"
     ]
    }
   ],
   "source": [
    "# Compile, train and save model\n",
    "\n",
    "model.compile('adam', 'categorical_crossentropy', metrics=['accuracy'])\n",
    "\n",
    "history = model.fit(train_generator, epochs=20, verbose=1, batch_size=32)\n",
    "\n",
    "model.save(\"modele-VGG19.h5\")"
   ]
  },
  {
   "cell_type": "code",
   "execution_count": null,
   "metadata": {},
   "outputs": [],
   "source": [
    "# Evaluate model performance on test data\n",
    "_, test_acc = cnn_model.evaluate(test_generator, verbose=0)\n",
    "\n",
    "print(f\"Test accuracy: {test_acc:.5f}\")"
   ]
  },
  {
   "cell_type": "code",
   "execution_count": null,
   "metadata": {},
   "outputs": [],
   "source": []
  }
 ],
 "metadata": {
  "kernelspec": {
   "display_name": "Python 3",
   "language": "python",
   "name": "python3"
  },
  "language_info": {
   "codemirror_mode": {
    "name": "ipython",
    "version": 3
   },
   "file_extension": ".py",
   "mimetype": "text/x-python",
   "name": "python",
   "nbconvert_exporter": "python",
   "pygments_lexer": "ipython3",
   "version": "3.8.3"
  }
 },
 "nbformat": 4,
 "nbformat_minor": 4
}
