{
 "cells": [
  {
   "cell_type": "code",
   "execution_count": 1,
   "metadata": {},
   "outputs": [],
   "source": [
    "import numpy as np\n",
    "import pandas as pd\n",
    "import matplotlib.pyplot as plt\n",
    "\n",
    "from tensorflow import keras\n",
    "import cv2\n",
    "\n",
    "%matplotlib inline\n",
    "plt.rcParams['figure.figsize'] = 12, 8\n",
    "%config InlineBackend.figure_format = 'retina'"
   ]
  },
  {
   "cell_type": "code",
   "execution_count": 2,
   "metadata": {},
   "outputs": [
    {
     "name": "stdout",
     "output_type": "stream",
     "text": [
      "WARNING:tensorflow:No training configuration found in save file, so the model was *not* compiled. Compile it manually.\n"
     ]
    }
   ],
   "source": [
    "from keras.applications import VGG16\n",
    "from keras.models import Sequential, load_model\n",
    "from keras.layers import Input, Flatten, Dense, Dropout\n",
    "\n",
    "vgg = VGG16(include_top=False, weights=\"imagenet\")\n",
    "vgg.trainable = False\n",
    "\n",
    "dense = load_model(\"modele-VGG16\") # ou 'modele-VGG16.h5'\n",
    "modele = Sequential([\n",
    "    Input((227, 227, 3)),\n",
    "    vgg,\n",
    "    dense\n",
    "], name=\"complet\")"
   ]
  },
  {
   "cell_type": "code",
   "execution_count": 3,
   "metadata": {},
   "outputs": [],
   "source": [
    "from os.path import join\n",
    "NOM = \"BowlPlace1Subject1\"\n",
    "VIDEO = join(\"VIDEOS\", NOM + \".mp4\")\n",
    "BOITE = join(\"GT\", NOM + \"_2_bboxes.txt\")"
   ]
  },
  {
   "cell_type": "markdown",
   "metadata": {},
   "source": [
    "## Lecture des boites fournies\n",
    "Lit le fichier contenant les informations de reconnaissance d'objets pour avoir un point de départ."
   ]
  },
  {
   "cell_type": "code",
   "execution_count": 4,
   "metadata": {},
   "outputs": [],
   "source": [
    "from os.path import join\n",
    "from typing import List, Tuple\n",
    "import csv\n",
    "\n",
    "def lecture_information_boite_englobante(nom: str) -> List[List[Tuple[int, int, int, int]]]:\n",
    "    \"\"\" Lit les boites englobante fournies pour l'exemple. \"\"\"\n",
    "    resultats = list()\n",
    "    \n",
    "    with open(join(\"GT\", nom + \"_2_bboxes.txt\"), \"r\") as fichier:\n",
    "        lecteur = csv.reader(fichier, delimiter=\" \")\n",
    "\n",
    "        for ligne in lecteur:\n",
    "            frame_nb = int(ligne[0])\n",
    "            boite_nb = int(ligne[1])\n",
    "            boites = list()\n",
    "            for i in range(boite_nb):\n",
    "                boite = (int(ligne[i * 4 + 2]), int(ligne[i * 4 + 3]), int(ligne[i * 4 + 4]), int(ligne[i * 4 + 5]))\n",
    "                boites.append(boite)\n",
    "            resultats.append(boites)\n",
    "    \n",
    "    return resultats\n",
    "\n",
    "boites_englobantes = lecture_information_boite_englobante(NOM)"
   ]
  },
  {
   "cell_type": "markdown",
   "metadata": {},
   "source": [
    "## Recherche de l'objet sur la prochaine image\n",
    "À partir de la zone désignée dans l'image précédante, tente de retrouver l'objet dans la nouvelle image."
   ]
  },
  {
   "cell_type": "code",
   "execution_count": 5,
   "metadata": {},
   "outputs": [],
   "source": [
    "from PIL import Image\n",
    "\n",
    "def evaluation_boite(image: Image, boites: list) -> np.array:\n",
    "    assert isinstance(boites, (list, tuple))\n",
    "    extraits = list(np.asarray(image\\\n",
    "        .resize((227, 227), box=((boite[0], boite[1], boite[0] + boite[2], boite[1] + boite[3]))))\n",
    "        for boite in boites)\n",
    "    return modele.predict(np.array(extraits))"
   ]
  },
  {
   "cell_type": "code",
   "execution_count": null,
   "metadata": {},
   "outputs": [],
   "source": [
    "from utils.evaluateBBox import *\n",
    "\n",
    "frame = 0\n",
    "video = cv2.VideoCapture(VIDEO)\n",
    "\n",
    "while video.isOpened():\n",
    "    ret, f = video.read()\n",
    "    image = Image.fromarray(f)\n",
    "    \n",
    "    if ret == False:\n",
    "        break\n",
    "        \n",
    "    # découper une boite\n",
    "    if frame - 1 > 0 and len(boites_englobantes[frame - 1]) > 0:\n",
    "        boite_pre = boites_englobantes[frame - 1][0]\n",
    "        boite_cible = boites_englobantes[frame][0]\n",
    "        \n",
    "        valeurs = evaluation_boite(image, (boite_pre, boite_cible))\n",
    "        categorie = np.argmax(valeurs[0])\n",
    "        evaluations = {boite_pre: valeurs[0][categorie]}  # categorie\n",
    "        meilleur_pos = boite_pre\n",
    "        #print(meilleur_pos, valeur[categorie])\n",
    "        #print(boite_cible, valeurs[1][categorie])\n",
    "        \n",
    "        # Modifications légères de la boite en maximisant la correspondance à la catégorie.\n",
    "        # la déplacer un peu et réessayer -> méthode diamand ?\n",
    "        # Méthode diamand sur 4D (x, y, w, h) ou (x, y, ratio, zoom)\n",
    "        pas = 32\n",
    "        while pas >= 4:\n",
    "            # propositions de nouvelles boites englobantes\n",
    "            propositions = list(boite_v\n",
    "                for boite_v in boites_voisines(meilleur_pos, image.size, pas=pas)\n",
    "                    if boite_v not in evaluations.keys())\n",
    "\n",
    "            # évalue toutes les boites proposées\n",
    "            valeurs = evaluation_boite(image, propositions)\n",
    "            for i, boite_v in enumerate(propositions):\n",
    "                valeur = valeurs[i]\n",
    "                evaluations[boite_v] = valeur[categorie]\n",
    "                if valeur[categorie] > evaluations[meilleur_pos]:\n",
    "                    meilleur_pos = boite_v\n",
    "            pas /= 2\n",
    "        print(f\"ajustement de {boite_pre} à {meilleur_pos}\")\n",
    "        print(f\"score: {IoU(boite_cible, meilleur_pos)}\")\n",
    "        \n",
    "    \n",
    "    frame += 1\n",
    "    \n",
    "video.release()"
   ]
  },
  {
   "cell_type": "code",
   "execution_count": null,
   "metadata": {},
   "outputs": [],
   "source": []
  }
 ],
 "metadata": {
  "kernelspec": {
   "display_name": "Python 3",
   "language": "python",
   "name": "python3"
  },
  "language_info": {
   "codemirror_mode": {
    "name": "ipython",
    "version": 3
   },
   "file_extension": ".py",
   "mimetype": "text/x-python",
   "name": "python",
   "nbconvert_exporter": "python",
   "pygments_lexer": "ipython3",
   "version": "3.8.6"
  }
 },
 "nbformat": 4,
 "nbformat_minor": 4
}
